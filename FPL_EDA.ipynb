{
  "nbformat": 4,
  "nbformat_minor": 0,
  "metadata": {
    "colab": {
      "provenance": [],
      "authorship_tag": "ABX9TyPzv8MNF/ty7y8Uge8mnlVh",
      "include_colab_link": true
    },
    "kernelspec": {
      "name": "python3",
      "display_name": "Python 3"
    },
    "language_info": {
      "name": "python"
    }
  },
  "cells": [
    {
      "cell_type": "markdown",
      "metadata": {
        "id": "view-in-github",
        "colab_type": "text"
      },
      "source": [
        "<a href=\"https://colab.research.google.com/github/Hotchapu13/Fantasy-Premier-League/blob/main/FPL_EDA.ipynb\" target=\"_parent\"><img src=\"https://colab.research.google.com/assets/colab-badge.svg\" alt=\"Open In Colab\"/></a>"
      ]
    },
    {
      "cell_type": "markdown",
      "source": [
        "## **Exploratory Data Analysis**\n",
        "This notebook oulines the use of jupyter notebooks to carry out exploratory data analysis on various datasets from the Fantasy Premier League\n",
        "\n",
        "## **Dataset Overview**\n"
      ],
      "metadata": {
        "id": "1qpZ_OLAtL8a"
      }
    },
    {
      "cell_type": "code",
      "execution_count": 1,
      "metadata": {
        "id": "OyhOM3nxqIZo"
      },
      "outputs": [],
      "source": [
        "import pandas as pd\n",
        "import numpy as np"
      ]
    },
    {
      "cell_type": "markdown",
      "source": [
        "## **Data Loading**\n",
        "- source: https://github.com/vaastav/Fantasy-Premier-League\n",
        "- Description: A FPL library that gets all the basic stats for each player, gw-specific data for each player and season history of each player\n"
      ],
      "metadata": {
        "id": "zsvRHeg7t84N"
      }
    },
    {
      "cell_type": "code",
      "source": [
        "# Historical datasets\n",
        "raw_urls = [\n",
        "    \"https://raw.githubusercontent.com/vaastav/Fantasy-Premier-League/refs/heads/master/data/2021-22/gws/merged_gw.csv\",\n",
        "    \"https://raw.githubusercontent.com/vaastav/Fantasy-Premier-League/refs/heads/master/data/2022-23/gws/merged_gw.csv\",\n",
        "    \"https://raw.githubusercontent.com/vaastav/Fantasy-Premier-League/refs/heads/master/data/2023-24/gws/merged_gw.csv\"\n",
        "]\n",
        "\n",
        "# Current Season dataset\n",
        "current_raw_url = \"https://raw.githubusercontent.com/vaastav/Fantasy-Premier-League/refs/heads/master/data/2024-25/gws/merged_gw.csv\"\n",
        "current_df = pd.read_csv(current_raw_url, on_bad_lines='skip')\n",
        "\n",
        "# columns = [name,position,team,xP,assists,bonus,bps,clean_sheets,creativity,element,expected_assists,expected_goal_involvements,expected_goals,expected_goals_conceded,fixture,goals_conceded,goals_scored,ict_index,influence,kickoff_time,minutes,opponent_team,own_goals,penalties_missed,penalties_saved,red_cards,round,saves,selected,starts,team_a_score,team_h_score,threat,total_points,transfers_balance,transfers_in,transfers_out,value,was_home,yellow_cards,GW]\n",
        "dfs = []\n",
        "\n",
        "# Loading and concatenating the three datasets\n",
        "for url in raw_urls:\n",
        "  df = pd.read_csv(url)\n",
        "  season = url.split(\"/\")[9]\n",
        "  df[\"Season\"] = season\n",
        "  dfs.append(df)\n",
        "\n",
        "historical_df = pd.concat(dfs, ignore_index=True)\n",
        "\n",
        "historical_df.info()"
      ],
      "metadata": {
        "colab": {
          "base_uri": "https://localhost:8080/"
        },
        "id": "rWJYo7bYuZYz",
        "outputId": "ef2d8c75-23d5-4598-d22d-0898177fc7d2"
      },
      "execution_count": 2,
      "outputs": [
        {
          "output_type": "stream",
          "name": "stdout",
          "text": [
            "<class 'pandas.core.frame.DataFrame'>\n",
            "RangeIndex: 81677 entries, 0 to 81676\n",
            "Data columns (total 42 columns):\n",
            " #   Column                      Non-Null Count  Dtype  \n",
            "---  ------                      --------------  -----  \n",
            " 0   name                        81677 non-null  object \n",
            " 1   position                    81677 non-null  object \n",
            " 2   team                        81677 non-null  object \n",
            " 3   xP                          81677 non-null  float64\n",
            " 4   assists                     81677 non-null  int64  \n",
            " 5   bonus                       81677 non-null  int64  \n",
            " 6   bps                         81677 non-null  int64  \n",
            " 7   clean_sheets                81677 non-null  int64  \n",
            " 8   creativity                  81677 non-null  float64\n",
            " 9   element                     81677 non-null  int64  \n",
            " 10  fixture                     81677 non-null  int64  \n",
            " 11  goals_conceded              81677 non-null  int64  \n",
            " 12  goals_scored                81677 non-null  int64  \n",
            " 13  ict_index                   81677 non-null  float64\n",
            " 14  influence                   81677 non-null  float64\n",
            " 15  kickoff_time                81677 non-null  object \n",
            " 16  minutes                     81677 non-null  int64  \n",
            " 17  opponent_team               81677 non-null  int64  \n",
            " 18  own_goals                   81677 non-null  int64  \n",
            " 19  penalties_missed            81677 non-null  int64  \n",
            " 20  penalties_saved             81677 non-null  int64  \n",
            " 21  red_cards                   81677 non-null  int64  \n",
            " 22  round                       81677 non-null  int64  \n",
            " 23  saves                       81677 non-null  int64  \n",
            " 24  selected                    81677 non-null  int64  \n",
            " 25  team_a_score                81677 non-null  int64  \n",
            " 26  team_h_score                81677 non-null  int64  \n",
            " 27  threat                      81677 non-null  float64\n",
            " 28  total_points                81677 non-null  int64  \n",
            " 29  transfers_balance           81677 non-null  int64  \n",
            " 30  transfers_in                81677 non-null  int64  \n",
            " 31  transfers_out               81677 non-null  int64  \n",
            " 32  value                       81677 non-null  int64  \n",
            " 33  was_home                    81677 non-null  bool   \n",
            " 34  yellow_cards                81677 non-null  int64  \n",
            " 35  GW                          81677 non-null  int64  \n",
            " 36  Season                      81677 non-null  object \n",
            " 37  expected_assists            56230 non-null  float64\n",
            " 38  expected_goal_involvements  56230 non-null  float64\n",
            " 39  expected_goals              56230 non-null  float64\n",
            " 40  expected_goals_conceded     56230 non-null  float64\n",
            " 41  starts                      56230 non-null  float64\n",
            "dtypes: bool(1), float64(10), int64(26), object(5)\n",
            "memory usage: 25.6+ MB\n"
          ]
        }
      ]
    },
    {
      "cell_type": "markdown",
      "source": [
        "## **Data Cleaning**\n",
        "Removing null values from the dataset"
      ],
      "metadata": {
        "id": "lEO5XYNNKMu9"
      }
    },
    {
      "cell_type": "code",
      "source": [
        "print(historical_df.isna().sum())"
      ],
      "metadata": {
        "id": "LvMXVGdhugAC",
        "colab": {
          "base_uri": "https://localhost:8080/"
        },
        "outputId": "4b57e8cc-fd49-4f24-c7b2-59fa0866bfe1"
      },
      "execution_count": 16,
      "outputs": [
        {
          "output_type": "stream",
          "name": "stdout",
          "text": [
            "name                              0\n",
            "position                          0\n",
            "team                              0\n",
            "xP                                0\n",
            "assists                           0\n",
            "bonus                             0\n",
            "bps                               0\n",
            "clean_sheets                      0\n",
            "creativity                        0\n",
            "element                           0\n",
            "fixture                           0\n",
            "goals_conceded                    0\n",
            "goals_scored                      0\n",
            "ict_index                         0\n",
            "influence                         0\n",
            "kickoff_time                      0\n",
            "minutes                           0\n",
            "opponent_team                     0\n",
            "own_goals                         0\n",
            "penalties_missed                  0\n",
            "penalties_saved                   0\n",
            "red_cards                         0\n",
            "round                             0\n",
            "saves                             0\n",
            "selected                          0\n",
            "team_a_score                      0\n",
            "team_h_score                      0\n",
            "threat                            0\n",
            "total_points                      0\n",
            "transfers_balance                 0\n",
            "transfers_in                      0\n",
            "transfers_out                     0\n",
            "value                             0\n",
            "was_home                          0\n",
            "yellow_cards                      0\n",
            "GW                                0\n",
            "Season                            0\n",
            "expected_assists              25447\n",
            "expected_goal_involvements    25447\n",
            "expected_goals                25447\n",
            "expected_goals_conceded       25447\n",
            "starts                        25447\n",
            "dtype: int64\n"
          ]
        }
      ]
    },
    {
      "cell_type": "code",
      "source": [
        "historical_data = historical_df.dropna()"
      ],
      "metadata": {
        "id": "8FRT8XWEGfQ7"
      },
      "execution_count": 23,
      "outputs": []
    },
    {
      "cell_type": "code",
      "source": [
        "historical_data.info()"
      ],
      "metadata": {
        "colab": {
          "base_uri": "https://localhost:8080/"
        },
        "id": "tN7W2ZqsJrhg",
        "outputId": "2c1b2e42-65dc-4942-87e7-837053de25db"
      },
      "execution_count": 24,
      "outputs": [
        {
          "output_type": "stream",
          "name": "stdout",
          "text": [
            "<class 'pandas.core.frame.DataFrame'>\n",
            "Index: 56230 entries, 25447 to 81676\n",
            "Data columns (total 42 columns):\n",
            " #   Column                      Non-Null Count  Dtype  \n",
            "---  ------                      --------------  -----  \n",
            " 0   name                        56230 non-null  object \n",
            " 1   position                    56230 non-null  object \n",
            " 2   team                        56230 non-null  object \n",
            " 3   xP                          56230 non-null  float64\n",
            " 4   assists                     56230 non-null  int64  \n",
            " 5   bonus                       56230 non-null  int64  \n",
            " 6   bps                         56230 non-null  int64  \n",
            " 7   clean_sheets                56230 non-null  int64  \n",
            " 8   creativity                  56230 non-null  float64\n",
            " 9   element                     56230 non-null  int64  \n",
            " 10  fixture                     56230 non-null  int64  \n",
            " 11  goals_conceded              56230 non-null  int64  \n",
            " 12  goals_scored                56230 non-null  int64  \n",
            " 13  ict_index                   56230 non-null  float64\n",
            " 14  influence                   56230 non-null  float64\n",
            " 15  kickoff_time                56230 non-null  object \n",
            " 16  minutes                     56230 non-null  int64  \n",
            " 17  opponent_team               56230 non-null  int64  \n",
            " 18  own_goals                   56230 non-null  int64  \n",
            " 19  penalties_missed            56230 non-null  int64  \n",
            " 20  penalties_saved             56230 non-null  int64  \n",
            " 21  red_cards                   56230 non-null  int64  \n",
            " 22  round                       56230 non-null  int64  \n",
            " 23  saves                       56230 non-null  int64  \n",
            " 24  selected                    56230 non-null  int64  \n",
            " 25  team_a_score                56230 non-null  int64  \n",
            " 26  team_h_score                56230 non-null  int64  \n",
            " 27  threat                      56230 non-null  float64\n",
            " 28  total_points                56230 non-null  int64  \n",
            " 29  transfers_balance           56230 non-null  int64  \n",
            " 30  transfers_in                56230 non-null  int64  \n",
            " 31  transfers_out               56230 non-null  int64  \n",
            " 32  value                       56230 non-null  int64  \n",
            " 33  was_home                    56230 non-null  bool   \n",
            " 34  yellow_cards                56230 non-null  int64  \n",
            " 35  GW                          56230 non-null  int64  \n",
            " 36  Season                      56230 non-null  object \n",
            " 37  expected_assists            56230 non-null  float64\n",
            " 38  expected_goal_involvements  56230 non-null  float64\n",
            " 39  expected_goals              56230 non-null  float64\n",
            " 40  expected_goals_conceded     56230 non-null  float64\n",
            " 41  starts                      56230 non-null  float64\n",
            "dtypes: bool(1), float64(10), int64(26), object(5)\n",
            "memory usage: 18.1+ MB\n"
          ]
        }
      ]
    },
    {
      "cell_type": "code",
      "source": [],
      "metadata": {
        "id": "5ejaEPO_LoHc"
      },
      "execution_count": null,
      "outputs": []
    }
  ]
}